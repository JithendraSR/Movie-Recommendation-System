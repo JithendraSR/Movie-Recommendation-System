{
 "cells": [
  {
   "cell_type": "markdown",
   "metadata": {},
   "source": [
    "## Introduction to Dataset"
   ]
  },
  {
   "cell_type": "code",
   "execution_count": null,
   "metadata": {},
   "outputs": [],
   "source": [
    "# Importing libraries\n",
    "import pandas as pd\n",
    "import numpy as np\n",
    "\n",
    "from mlxtend.frequent_patterns import apriori, association_rules "
   ]
  },
  {
   "cell_type": "code",
   "execution_count": null,
   "metadata": {},
   "outputs": [],
   "source": [
    "# Reading the dataset\n",
    "movies = pd.read_csv(\"movies.csv\")\n",
    "ratings = pd.read_csv(\"ratings.csv\")\n",
    "\n",
    "ratings.info()\n",
    "print('\\n')\n",
    "movies.info()"
   ]
  },
  {
   "cell_type": "code",
   "execution_count": null,
   "metadata": {},
   "outputs": [],
   "source": [
    "movies.head()"
   ]
  },
  {
   "cell_type": "code",
   "execution_count": null,
   "metadata": {},
   "outputs": [],
   "source": [
    "ratings.head()"
   ]
  },
  {
   "cell_type": "markdown",
   "metadata": {},
   "source": [
    "## Data Preprocessing"
   ]
  },
  {
   "cell_type": "code",
   "execution_count": null,
   "metadata": {},
   "outputs": [],
   "source": [
    "final_dataset = ratings.pivot(index='userId',columns='movieId',values='rating')"
   ]
  },
  {
   "cell_type": "code",
   "execution_count": null,
   "metadata": {},
   "outputs": [],
   "source": [
    "final_dataset"
   ]
  },
  {
   "cell_type": "code",
   "execution_count": null,
   "metadata": {},
   "outputs": [],
   "source": [
    "final_dataset.fillna(0,inplace=True)"
   ]
  },
  {
   "cell_type": "code",
   "execution_count": null,
   "metadata": {},
   "outputs": [],
   "source": [
    "no_user_voted = ratings.groupby('movieId')['rating'].agg('count')\n",
    "no_movies_voted = ratings.groupby('userId')['rating'].agg('count')\n",
    "\n",
    "# no_user_voted\n",
    "# no_movies_voted"
   ]
  },
  {
   "cell_type": "code",
   "execution_count": null,
   "metadata": {},
   "outputs": [],
   "source": [
    "final_dataset = final_dataset.loc[:, no_user_voted[no_user_voted > 10].index]"
   ]
  },
  {
   "cell_type": "code",
   "execution_count": null,
   "metadata": {},
   "outputs": [],
   "source": [
    "final_dataset = final_dataset.loc[no_movies_voted[no_movies_voted > 50].index, :]"
   ]
  },
  {
   "cell_type": "code",
   "execution_count": null,
   "metadata": {},
   "outputs": [],
   "source": [
    "final_dataset"
   ]
  },
  {
   "cell_type": "code",
   "execution_count": null,
   "metadata": {},
   "outputs": [],
   "source": [
    "def hot_encode(x): \n",
    "    if(x < 3.5): \n",
    "        return 0\n",
    "    else: \n",
    "        return 1"
   ]
  },
  {
   "cell_type": "code",
   "execution_count": null,
   "metadata": {},
   "outputs": [],
   "source": [
    "final_dataset = final_dataset.applymap(hot_encode)"
   ]
  },
  {
   "cell_type": "code",
   "execution_count": null,
   "metadata": {},
   "outputs": [],
   "source": [
    "final_dataset"
   ]
  },
  {
   "cell_type": "code",
   "execution_count": null,
   "metadata": {},
   "outputs": [],
   "source": [
    "movieIdToName = dict()\n",
    "for mid in final_dataset.columns:\n",
    "    movieIdToName[mid] = movies[movies[\"movieId\"] == mid][\"title\"].values[0]"
   ]
  },
  {
   "cell_type": "code",
   "execution_count": null,
   "metadata": {},
   "outputs": [],
   "source": [
    "cnt = 0\n",
    "for movieId, movieName in movieIdToName.items():\n",
    "    print(f\"{movieId} -> {movieName}\")\n",
    "    cnt += 1\n",
    "    \n",
    "    if(cnt == 5):\n",
    "        break"
   ]
  },
  {
   "cell_type": "code",
   "execution_count": null,
   "metadata": {},
   "outputs": [],
   "source": [
    "finalLst = []\n",
    "for i in final_dataset.index:\n",
    "    lst = []\n",
    "    for j in final_dataset.columns:\n",
    "        if(final_dataset[j][i]):\n",
    "            lst.append(j)\n",
    "    finalLst.append(lst)"
   ]
  },
  {
   "cell_type": "code",
   "execution_count": null,
   "metadata": {},
   "outputs": [],
   "source": [
    "print(finalLst[0])"
   ]
  },
  {
   "cell_type": "code",
   "execution_count": null,
   "metadata": {},
   "outputs": [],
   "source": [
    "# storing data to file\n",
    "with open(\"dataset.txt\", \"w\") as fp:\n",
    "    for lst in finalLst:\n",
    "        for x in lst:\n",
    "            fp.write(str(x))\n",
    "            fp.write(\" \")\n",
    "        fp.write(\"\\n\")"
   ]
  },
  {
   "cell_type": "markdown",
   "metadata": {},
   "source": [
    "## Manual Implementation"
   ]
  },
  {
   "cell_type": "code",
   "execution_count": null,
   "metadata": {},
   "outputs": [],
   "source": [
    "# encoding the movie id length to fixed size\n",
    "movieIdSize = 6\n",
    "\n",
    "# encoding value\n",
    "encoder = 100000\n",
    "\n",
    "# Total users\n",
    "userCnt = 378"
   ]
  },
  {
   "cell_type": "code",
   "execution_count": null,
   "metadata": {},
   "outputs": [],
   "source": [
    "minSupport = 70"
   ]
  },
  {
   "cell_type": "code",
   "execution_count": null,
   "metadata": {},
   "outputs": [],
   "source": [
    "# Too generate new (k+1)-itemsets\n",
    "def generateKPlus1thSet(itemSet):\n",
    "    length = len(itemSet)\n",
    "    candidates = []   # all (k + 1) candidates\n",
    "    \n",
    "    # for each candidate\n",
    "    for (i, candidate) in enumerate(itemSet):\n",
    "        # for next all candidates in itemSet\n",
    "        for j in range(i + 1, length):\n",
    "            nextCandidate = itemSet[j]\n",
    "            # matching first (k - 1) elements\n",
    "            if(candidate[:-movieIdSize] == nextCandidate[:-movieIdSize]):    \n",
    "                newItem = candidate[:-movieIdSize] + candidate[-movieIdSize:] + nextCandidate[-movieIdSize:]\n",
    "                candidates.append(newItem)\n",
    "            \n",
    "    return candidates"
   ]
  },
  {
   "cell_type": "code",
   "execution_count": null,
   "metadata": {},
   "outputs": [],
   "source": [
    "# Prune step\n",
    "def prune(Ck):\n",
    "    Lk = []\n",
    "\n",
    "    for item in Ck:\n",
    "        if(Ck[item] >= minSupport):\n",
    "            Lk.append(item)\n",
    "    \n",
    "    return Lk"
   ]
  },
  {
   "cell_type": "code",
   "execution_count": null,
   "metadata": {},
   "outputs": [],
   "source": [
    "# calculating support for new itemset\n",
    "def calculateSupport(candidates):\n",
    "    \n",
    "    Ck = dict()\n",
    "    \n",
    "    for line in finalLst:\n",
    "        line = list(map(lambda x: str(x + encoder), line))\n",
    "        \n",
    "        for candidate in candidates:\n",
    "            \n",
    "            if(candidate not in Ck):\n",
    "                Ck[candidate] = 0\n",
    "                \n",
    "            present = True\n",
    "            \n",
    "            for k in range(0, len(candidate), movieIdSize):\n",
    "                item = candidate[k: k + movieIdSize]\n",
    "                \n",
    "                if(item not in line):\n",
    "                    present = False\n",
    "                    break\n",
    "                    \n",
    "            if(present):\n",
    "                Ck[candidate] += 1\n",
    "                \n",
    "    return Ck"
   ]
  },
  {
   "cell_type": "code",
   "execution_count": null,
   "metadata": {},
   "outputs": [],
   "source": [
    "C1 = dict()\n",
    "\n",
    "for line in finalLst:\n",
    "    for item in line:\n",
    "        item = str(item + encoder)\n",
    "        C1[item] = C1.get(item, 0) + 1        # C1 encoded no along with occurance.       \n",
    "        \n",
    "L1 = prune(C1)      # divide based on minSup.\n",
    "\n",
    "print('====================================')\n",
    "print('     Generating 1 itemset')\n",
    "print('====================================')\n",
    "\n",
    "L = generateKPlus1thSet(L1)\n",
    "# print(L)\n",
    "\n",
    "k = 2\n",
    "while(L != []):\n",
    "    \n",
    "    C = calculateSupport(L)\n",
    "    \n",
    "    frequentItemset = prune(C)\n",
    "\n",
    "    print('     Generating', k, 'itemset')\n",
    "    print('====================================')\n",
    "    \n",
    "    L = generateKPlus1thSet(frequentItemset)\n",
    "    \n",
    "    k += 1"
   ]
  },
  {
   "cell_type": "code",
   "execution_count": null,
   "metadata": {},
   "outputs": [],
   "source": [
    "def decoder(frequentItemset):\n",
    "    \n",
    "    y = [[itemSet[x : x + movieIdSize] for x in range(0, len(itemSet), movieIdSize)] for itemSet in frequentItemset]\n",
    "\n",
    "    x1 = [list(map(lambda x: str(int(x) - encoder), z)) for z in y]\n",
    "    \n",
    "    movieItemSet = []\n",
    "    \n",
    "    # for each itemset\n",
    "    for itemSet in x1:\n",
    "        tempSet = []\n",
    "        for movieId in itemSet:\n",
    "            tempSet.append(movieIdToName[int(movieId)])\n",
    "            \n",
    "        movieItemSet.append(tempSet)\n",
    "    \n",
    "    return movieItemSet"
   ]
  },
  {
   "cell_type": "code",
   "execution_count": null,
   "metadata": {},
   "outputs": [],
   "source": [
    "frequentItems = decoder(frequentItemset)\n",
    "\n",
    "print(\"Final Frequent ItemSets\\n\\n\")\n",
    "\n",
    "for itemSet in frequentItems:   \n",
    "    for movie in itemSet:\n",
    "        print(movie)\n",
    "        \n",
    "    print(\"\\n\")"
   ]
  },
  {
   "cell_type": "code",
   "execution_count": null,
   "metadata": {},
   "outputs": [],
   "source": [
    "# Formating frequent itemset to generate association rules\n",
    "freqItems = []\n",
    "\n",
    "items = \"\".join(frequentItemset)\n",
    "\n",
    "for k in range(0, len(items), movieIdSize):\n",
    "    item = items[k: k + movieIdSize]\n",
    "    support = (C1[item] / userCnt)\n",
    "    movieName = frozenset([movieIdToName[int(item) - encoder]])\n",
    "    freqItems.append([support, movieName])\n",
    "    \n",
    "freqDf = pd.DataFrame(freqItems, columns=[\"support\", \"itemsets\"])\n",
    "print(freqDf)"
   ]
  },
  {
   "cell_type": "code",
   "execution_count": null,
   "metadata": {},
   "outputs": [],
   "source": [
    "rules = association_rules(freqDf, metric =\"confidence\", min_threshold = 1) \n",
    "rules = rules.sort_values(['confidence', 'lift'], ascending =[False, False])\n",
    "\n",
    "rules"
   ]
  },
  {
   "cell_type": "markdown",
   "metadata": {},
   "source": [
    "## Generating rules from frequent itemset"
   ]
  },
  {
   "cell_type": "code",
   "execution_count": null,
   "metadata": {},
   "outputs": [],
   "source": [
    "final_dataset.columns = [movieIdToName[mid] for mid in final_dataset.columns]"
   ]
  },
  {
   "cell_type": "code",
   "execution_count": null,
   "metadata": {},
   "outputs": [],
   "source": [
    "final_dataset"
   ]
  },
  {
   "cell_type": "code",
   "execution_count": null,
   "metadata": {},
   "outputs": [],
   "source": [
    "# Building the model \n",
    "frq_items = apriori(final_dataset, min_support = 0.3, use_colnames = True) \n",
    "print(frq_items)\n",
    "\n",
    "# Collecting the inferred rules in a dataframe \n",
    "rules = association_rules(frq_items, metric =\"lift\", min_threshold = 1) \n",
    "rules = rules.sort_values(['confidence', 'lift'], ascending =[False, False]) "
   ]
  },
  {
   "cell_type": "code",
   "execution_count": null,
   "metadata": {
    "scrolled": false
   },
   "outputs": [],
   "source": [
    "for i in rules.index:\n",
    "    antecedents = []\n",
    "    consequents = []\n",
    "    for j in rules.antecedents[i]:\n",
    "        antecedents.append(j[:30])\n",
    "    for k in rules.consequents[i]:\n",
    "        consequents.append(k[:30])\n",
    "        \n",
    "    print(f'({\",\".join(antecedents)}) --> ({\",\".join(consequents)})\\n')"
   ]
  },
  {
   "cell_type": "code",
   "execution_count": null,
   "metadata": {},
   "outputs": [],
   "source": [
    "# Recommendation for a particular movie\n",
    "def getRecommendation(movie):\n",
    "    similarMovies = []\n",
    "    for movies in frequentItems:\n",
    "        if movie in movies:\n",
    "            similarMovies.extend(movies)\n",
    "    return similarMovies"
   ]
  },
  {
   "cell_type": "code",
   "execution_count": null,
   "metadata": {},
   "outputs": [],
   "source": [
    "movie = 'Star Wars: Episode IV - A New Hope (1977)' \n",
    "print(\"The Recommended Movies are\\n\")\n",
    "recommended_movies = getRecommendation(movie)\n",
    "for movies in recommended_movies:\n",
    "    if(movies != movie):\n",
    "        print(movies)"
   ]
  },
  {
   "cell_type": "markdown",
   "metadata": {},
   "source": [
    "## The End"
   ]
  }
 ],
 "metadata": {
  "kernelspec": {
   "display_name": "Python 3",
   "language": "python",
   "name": "python3"
  },
  "language_info": {
   "codemirror_mode": {
    "name": "ipython",
    "version": 3
   },
   "file_extension": ".py",
   "mimetype": "text/x-python",
   "name": "python",
   "nbconvert_exporter": "python",
   "pygments_lexer": "ipython3",
   "version": "3.7.7"
  }
 },
 "nbformat": 4,
 "nbformat_minor": 2
}
